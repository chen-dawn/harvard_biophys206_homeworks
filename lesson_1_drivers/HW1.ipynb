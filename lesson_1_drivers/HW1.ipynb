{
 "cells": [
  {
   "cell_type": "markdown",
   "id": "attempted-copyright",
   "metadata": {},
   "source": [
    "# HW1. Driver discovery\n",
    "\n",
    "In this problem set, you will implement several iterations of a driver discovery algorithm and examine their performance on simulated and real data. Code snippets are provided as a jumping off point, but are not necessary to use (and if desired you may do this problem set in a language other than python). Code should be well documented and easy to follow, and should be runnable as a single notebook or script.\n",
    "\n",
    "Included are the following files:\n",
    "\n",
    "\n",
    "## MEL_simulated_mutations_uniform_model.maf\n",
    "Simulated data assuming passenger mutations accumulate at some fixed probability per base (which you will need to infer), and spiking in driver mutations in the cancer genes reported for Melanomas on tumorportal.org. Each line corresponds to a single mutation, and the following information is provided:\n",
    "- The gene in which the mutation occurred\n",
    "- The patient in which the mutation was found\n",
    "- What the protein coding effect of the mutation was. For simplicity all non-silent mutations are classified as missense.\n",
    "\n",
    "\n",
    "## MEL.maf\n",
    "\n",
    "A list of mutations observed in melanomas sequenced in TCGA as downloaded from tumorportal.org. Additional information given about these mutations include:\n",
    "- classification: Whether the mutation was a point mutation (SNP), deletion (DEL), insertion (INS), dinucleotide mutation (DNP), or trinucleotide mutation (TNP). \n",
    "- chr: the chromosome on which the mutation occured.\n",
    "- pos: the chromosomal position at which the mutation occurred.\n",
    "- ref_allele: The reference genome base at the position of the mutation.\n",
    "- newbase: The nucleotide to which the base was changed after the mutation.\n",
    "\n",
    "## exome.coverage.txt\n",
    "\n",
    "This file gives the number of bases at risk for each gene for a given type of mutation resulting in a particular effect. For example, the first line tells us the gene A1BG has 239 A bases at which an A->C mutation would result in a nonsilent mutation. This file is derived from the covarage file used by MutSigCV (https://software.broadinstitute.org/cancer/cga/mutsig).\n",
    "\n",
    "## gene.covariates.txt\n",
    "Gene-level covariates of mutation rate, again sourced from MutSigCV. Includes expression data averaged across cancer cell lines from different tumor types, replication timing data, and a Hi-C derived measure of chromatin openness. \n"
   ]
  },
  {
   "cell_type": "code",
   "execution_count": null,
   "id": "rubber-theory",
   "metadata": {},
   "outputs": [],
   "source": [
    "# Some possibly useful imports (if using python)\n",
    "import pandas as pd\n",
    "import numpy as np\n",
    "import matplotlib.pyplot as plt\n",
    "import seaborn as sns\n",
    "from scipy.stats import binom, poisson, beta, betabinom"
   ]
  },
  {
   "cell_type": "markdown",
   "id": "tropical-emerald",
   "metadata": {},
   "source": [
    "## Question 1. Driver discovery on simulated data"
   ]
  },
  {
   "cell_type": "markdown",
   "id": "approximate-relevance",
   "metadata": {},
   "source": [
    "### (a) Using the simulated data provided, implement a simple driver discovery model that assumes a uniform mutation rate across all patients and bases of the genome. First, infer this mutation rate parameter from silent mutations. Then test whether we see more non-silent mutations than expected by chance. You should return a dataframe with the following values for every gene:\n",
    "\n",
    "- A p-value testing the null hypothesis of seeing the number of nonsilent mutations (or more) by your inferred background mutation rate\n",
    "- A bonferonni FWER corrected p-value\n",
    "- A benjamini-hochberg FDR corrected p-value"
   ]
  },
  {
   "cell_type": "code",
   "execution_count": null,
   "id": "animated-slovenia",
   "metadata": {},
   "outputs": [],
   "source": [
    "## Load maf file\n",
    "m = pd.read_csv('MEL_simulated_mutations_uniform_model.maf',sep='\\t')\n",
    "m.head()"
   ]
  },
  {
   "cell_type": "code",
   "execution_count": null,
   "id": "naval-bosnia",
   "metadata": {},
   "outputs": [],
   "source": [
    "C = pd.read_csv('exome.coverage.txt',sep='\\t')\n",
    "C.head()"
   ]
  },
  {
   "cell_type": "code",
   "execution_count": null,
   "id": "noted-workshop",
   "metadata": {},
   "outputs": [],
   "source": [
    "# Inputs:\n",
    "   # m: maf file\n",
    "   # C: coverage file \n",
    "def uniform_significance_model(m,C):\n",
    "    \n",
    "    # Implement your driver discovery algorithm:\n",
    "    ## - Infer necessary mutation rate parameters from silent mutations\n",
    "    ## - Calculate probability of seeing observed number of nonsilent mutations (or greater) per gene\n",
    "    ## Return dataframe with the results per gene\n",
    "    pass"
   ]
  },
  {
   "cell_type": "code",
   "execution_count": null,
   "id": "literary-remains",
   "metadata": {},
   "outputs": [],
   "source": [
    "results = uniform_significance_model(m,C)"
   ]
  },
  {
   "cell_type": "markdown",
   "id": "automatic-discretion",
   "metadata": {},
   "source": [
    "### (b) Make a qq plot of the results. Color ground truth drivers"
   ]
  },
  {
   "cell_type": "code",
   "execution_count": null,
   "id": "sorted-dover",
   "metadata": {},
   "outputs": [],
   "source": [
    "# Here's the ground truth list of drivers spiked in, and their frequencies.\n",
    "# Do not use any part of this file in your significance model!!!!!\n",
    "drivers = pd.read_csv('MEL_mutsig_gene_frequencies.txt',sep='\\t')\n",
    "drivers.head()"
   ]
  },
  {
   "cell_type": "code",
   "execution_count": null,
   "id": "velvet-failing",
   "metadata": {},
   "outputs": [],
   "source": [
    "def qq(results):\n",
    "    # Implement\n",
    "    pass"
   ]
  },
  {
   "cell_type": "code",
   "execution_count": null,
   "id": "second-disclaimer",
   "metadata": {},
   "outputs": [],
   "source": [
    "qq(results)"
   ]
  },
  {
   "cell_type": "markdown",
   "id": "wicked-scholarship",
   "metadata": {},
   "source": [
    "### (c) Calulate your false positive and negative rate with and without bonferonni FWER correction. Do the same with Benjamini-Hochberg FDR correction."
   ]
  },
  {
   "cell_type": "markdown",
   "id": "encouraging-squad",
   "metadata": {},
   "source": [
    "### (d) Using your inferred background mutation rate, calculate your power to detect driver mutations as a function of the number of patients observed. Draw such curves for drivers at 5%, 10%, 20%, and 50% frequencies. Assume the gene which you are testing is of length 1.5kb and that 3/4 of the possible mutations would cause a nonsilent effect. For simplicity you may assume we plan to use bonferonni correction rather than FDR."
   ]
  },
  {
   "cell_type": "code",
   "execution_count": null,
   "id": "municipal-history",
   "metadata": {},
   "outputs": [],
   "source": []
  },
  {
   "cell_type": "markdown",
   "id": "smart-strike",
   "metadata": {},
   "source": [
    "## Question 2. Real data"
   ]
  },
  {
   "cell_type": "markdown",
   "id": "crazy-ebony",
   "metadata": {},
   "source": [
    "### (a) Taking the real Melanoma data, again test significance with your already implemented model. Make diagnostic plots as before. Comment on whether the results seem reasonable. If you have \"new\" drivers, explore several on tumorportal.org (include screenshots with your submission) and discuss whether you think they are genuine drivers or if not, what factors could be leading to false positives."
   ]
  },
  {
   "cell_type": "markdown",
   "id": "tired-jaguar",
   "metadata": {},
   "source": [
    "### (b) Take the genomic covariates, and perform an exploratory analysis to examine their relationship with mutation rate in this dataset. Which are positively correlated? Which negatively? "
   ]
  },
  {
   "cell_type": "markdown",
   "id": "economic-respondent",
   "metadata": {},
   "source": [
    "### (c) Implement a new model that uses the genomic covariates to better estimate the mutation rate. Feel free to use regression models implemented by packages such as sklearn or statsmodels (but do not use any genomics-specific packages). Make sure to do any appropriate pre-processing to covariates before using them. Perfect performance is not expected, but inclusion of covariates should yield an improvement over the baseline model."
   ]
  },
  {
   "cell_type": "code",
   "execution_count": null,
   "id": "floppy-bookmark",
   "metadata": {},
   "outputs": [],
   "source": [
    "X = pd.read_csv('gene.covariates.txt',sep='\\t').set_index('gene')\n",
    "X.head()"
   ]
  },
  {
   "cell_type": "code",
   "execution_count": null,
   "id": "available-senate",
   "metadata": {},
   "outputs": [],
   "source": [
    "# Inputs:\n",
    "   # m: maf file\n",
    "   # C: coverage file \n",
    "   # X: Genomic coveriates\n",
    "def pergene_significance_model(m,C,X):\n",
    "    \n",
    "    # Implement your driver discovery algorithm:\n",
    "    ## - Infer necessary mutation rate parameters from silent mutations\n",
    "        ## - e.g. Fit a regression model that predicts the mutation rate for each gene using the covariates\n",
    "    ## - Calculate the probability of seeing observed number of nonsilent mutations (or greater) per gene\n",
    "    ## using your gene-specific mutation rate estimates\n",
    "    ## Return dataframe with the results per gene\n",
    "    pass"
   ]
  },
  {
   "cell_type": "code",
   "execution_count": null,
   "id": "arabic-memory",
   "metadata": {},
   "outputs": [],
   "source": [
    "results_pergenemodel = pergene_significance_model(m,C)"
   ]
  },
  {
   "cell_type": "markdown",
   "id": "included-twist",
   "metadata": {},
   "source": [
    "### (d) Again make diagnostic plots and results. Is your test well calibrated? What is the overlap with previously reported MutSig genes? Investigate several disagreeing genes on tumorportal.org and discuss whether you think they are real drivers or false positives. If the later, discuss (but you do not need to implement) improvements to the model that might help further refine your driver list. \n"
   ]
  },
  {
   "cell_type": "code",
   "execution_count": null,
   "id": "improved-bread",
   "metadata": {},
   "outputs": [],
   "source": []
  }
 ],
 "metadata": {
  "kernelspec": {
   "display_name": "Python 3",
   "language": "python",
   "name": "python3"
  },
  "language_info": {
   "codemirror_mode": {
    "name": "ipython",
    "version": 3
   },
   "file_extension": ".py",
   "mimetype": "text/x-python",
   "name": "python",
   "nbconvert_exporter": "python",
   "pygments_lexer": "ipython3",
   "version": "3.8.5"
  }
 },
 "nbformat": 4,
 "nbformat_minor": 5
}
