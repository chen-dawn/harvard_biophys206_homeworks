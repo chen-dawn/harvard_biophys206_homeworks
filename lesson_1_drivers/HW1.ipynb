{
 "cells": [
  {
   "cell_type": "markdown",
   "id": "postal-baptist",
   "metadata": {},
   "source": [
    "# HW1. Driver discovery\n",
    "\n",
    "In this problem set, you will implement several iterations of a driver discovery algorithm and examine their performance on simulated and real data. Code snippets are provided as a jumping off point, but are not necessary to use (and if desired you may do this problem set in a language other than python). Code should be well documented and easy to follow, and should be runnable as a single notebook or script.\n",
    "\n",
    "Included are the following files:\n",
    "\n",
    "\n",
    "## MEL_simulated_mutations_uniform_model.maf\n",
    "Simulated data assuming passenger mutations accumulate at some fixed probability per base (which you don't know), and spiking in driver gene mutations in the genes observed in MEL on tumorportal.org. Each line corresponds to a single mutation, and the following information is provided:\n",
    "- The gene in which the mutation occurred\n",
    "- The patient in which the mutation was found\n",
    "- What the protein coding effect of the mutation was. For simplicity all non-silent mutations are classified as missense.\n",
    "\n",
    "\n",
    "## MEL.maf\n",
    "\n",
    "A list of mutations observed in melanomas sequenced in TCGA as downloaded from tumorportal.org. Additional information given about these mutations include:\n",
    "- classification: Whether the mutation was a point mutation (SNP), deletion (DEL), insertion (INS), dinucleotide mutation (DNP), or trinucleotide mutation (TNP). \n",
    "- chr: the chromosome on which the mutation occured.\n",
    "- pos: the chromosomal position at which the mutation occurred.\n",
    "- ref_allele: The reference genome base at the position of the mutation.\n",
    "- newbase: The nucleotide to which the base was changed after the mutation.\n",
    "\n",
    "## exome.coverage.txt\n",
    "\n",
    "This file gives the number of bases at risk for each gene for a given type of mutation resulting in a particular effect. For example, the first line tells us the gene A1BG has 239 A bases at which an A->C mutation would result in a nonsilent mutation. This file is derived from the covarage file used by MutSigCV (https://software.broadinstitute.org/cancer/cga/mutsig).\n",
    "\n",
    "## gene.covariates.txt\n",
    "Gene-level covariates of mutation rate. Includes expression data averaged across cancer cell lines from different tumor types, replication timing data, and a Hi-C derived measure of chromatin openness. \n"
   ]
  },
  {
   "cell_type": "code",
   "execution_count": 1,
   "id": "signal-weekend",
   "metadata": {},
   "outputs": [],
   "source": [
    "# Some possibly useful imports (if using python)\n",
    "import pandas as pd\n",
    "import numpy as np\n",
    "import matplotlib.pyplot as plt\n",
    "import seaborn as sns\n",
    "from scipy.stats import binom, poisson, beta, betabinom"
   ]
  },
  {
   "cell_type": "markdown",
   "id": "alpha-timeline",
   "metadata": {},
   "source": [
    "## Question 1. Driver discovery on simulated data"
   ]
  },
  {
   "cell_type": "markdown",
   "id": "finite-transformation",
   "metadata": {},
   "source": [
    "### (a) Using the simulated data provided, implement a simple driver discovery model that assumes a uniform mutation rate across all patients and bases of the genome. This mutation rate parameter should be inferred from silent mutations, and the model should return a dataframe summarizing the results of the test. Your tool should create a dataframe with the following values for every gene:\n",
    "\n",
    "- A p-value testing the null hypothesis of seeing the number of nonsilent mutations (or more) by your inferred background mutation rate\n",
    "- A bonferonni FWER corrected p-value\n",
    "- A benjamini-hochberg FDR corrected p-value"
   ]
  },
  {
   "cell_type": "code",
   "execution_count": 2,
   "id": "handy-senior",
   "metadata": {},
   "outputs": [
    {
     "data": {
      "text/html": [
       "<div>\n",
       "<style scoped>\n",
       "    .dataframe tbody tr th:only-of-type {\n",
       "        vertical-align: middle;\n",
       "    }\n",
       "\n",
       "    .dataframe tbody tr th {\n",
       "        vertical-align: top;\n",
       "    }\n",
       "\n",
       "    .dataframe thead th {\n",
       "        text-align: right;\n",
       "    }\n",
       "</style>\n",
       "<table border=\"1\" class=\"dataframe\">\n",
       "  <thead>\n",
       "    <tr style=\"text-align: right;\">\n",
       "      <th></th>\n",
       "      <th>gene</th>\n",
       "      <th>patient</th>\n",
       "      <th>type</th>\n",
       "    </tr>\n",
       "  </thead>\n",
       "  <tbody>\n",
       "    <tr>\n",
       "      <th>0</th>\n",
       "      <td>AADACL3</td>\n",
       "      <td>Patient0</td>\n",
       "      <td>Missense_Mutation</td>\n",
       "    </tr>\n",
       "    <tr>\n",
       "      <th>1</th>\n",
       "      <td>AAK1</td>\n",
       "      <td>Patient0</td>\n",
       "      <td>Missense_Mutation</td>\n",
       "    </tr>\n",
       "    <tr>\n",
       "      <th>2</th>\n",
       "      <td>ABCA1</td>\n",
       "      <td>Patient0</td>\n",
       "      <td>Silent</td>\n",
       "    </tr>\n",
       "    <tr>\n",
       "      <th>3</th>\n",
       "      <td>ABCA12</td>\n",
       "      <td>Patient0</td>\n",
       "      <td>Missense_Mutation</td>\n",
       "    </tr>\n",
       "    <tr>\n",
       "      <th>4</th>\n",
       "      <td>ABCA13</td>\n",
       "      <td>Patient0</td>\n",
       "      <td>Silent</td>\n",
       "    </tr>\n",
       "  </tbody>\n",
       "</table>\n",
       "</div>"
      ],
      "text/plain": [
       "      gene   patient               type\n",
       "0  AADACL3  Patient0  Missense_Mutation\n",
       "1     AAK1  Patient0  Missense_Mutation\n",
       "2    ABCA1  Patient0             Silent\n",
       "3   ABCA12  Patient0  Missense_Mutation\n",
       "4   ABCA13  Patient0             Silent"
      ]
     },
     "execution_count": 2,
     "metadata": {},
     "output_type": "execute_result"
    }
   ],
   "source": [
    "## Load maf file\n",
    "m = pd.read_csv('MEL_simulated_mutations_uniform_model.maf',sep='\\t')\n",
    "m.head()"
   ]
  },
  {
   "cell_type": "code",
   "execution_count": 3,
   "id": "cloudy-commons",
   "metadata": {},
   "outputs": [
    {
     "data": {
      "text/html": [
       "<div>\n",
       "<style scoped>\n",
       "    .dataframe tbody tr th:only-of-type {\n",
       "        vertical-align: middle;\n",
       "    }\n",
       "\n",
       "    .dataframe tbody tr th {\n",
       "        vertical-align: top;\n",
       "    }\n",
       "\n",
       "    .dataframe thead th {\n",
       "        text-align: right;\n",
       "    }\n",
       "</style>\n",
       "<table border=\"1\" class=\"dataframe\">\n",
       "  <thead>\n",
       "    <tr style=\"text-align: right;\">\n",
       "      <th></th>\n",
       "      <th>gene</th>\n",
       "      <th>mutation</th>\n",
       "      <th>effect</th>\n",
       "      <th>coverage</th>\n",
       "    </tr>\n",
       "  </thead>\n",
       "  <tbody>\n",
       "    <tr>\n",
       "      <th>0</th>\n",
       "      <td>A1BG</td>\n",
       "      <td>A-&gt;C</td>\n",
       "      <td>nonsilent</td>\n",
       "      <td>239</td>\n",
       "    </tr>\n",
       "    <tr>\n",
       "      <th>1</th>\n",
       "      <td>A1BG</td>\n",
       "      <td>A-&gt;C</td>\n",
       "      <td>silent</td>\n",
       "      <td>26</td>\n",
       "    </tr>\n",
       "    <tr>\n",
       "      <th>2</th>\n",
       "      <td>A1BG</td>\n",
       "      <td>A-&gt;G</td>\n",
       "      <td>nonsilent</td>\n",
       "      <td>211</td>\n",
       "    </tr>\n",
       "    <tr>\n",
       "      <th>3</th>\n",
       "      <td>A1BG</td>\n",
       "      <td>A-&gt;G</td>\n",
       "      <td>silent</td>\n",
       "      <td>54</td>\n",
       "    </tr>\n",
       "    <tr>\n",
       "      <th>4</th>\n",
       "      <td>A1BG</td>\n",
       "      <td>A-&gt;T</td>\n",
       "      <td>nonsilent</td>\n",
       "      <td>236</td>\n",
       "    </tr>\n",
       "  </tbody>\n",
       "</table>\n",
       "</div>"
      ],
      "text/plain": [
       "   gene mutation     effect  coverage\n",
       "0  A1BG     A->C  nonsilent       239\n",
       "1  A1BG     A->C     silent        26\n",
       "2  A1BG     A->G  nonsilent       211\n",
       "3  A1BG     A->G     silent        54\n",
       "4  A1BG     A->T  nonsilent       236"
      ]
     },
     "execution_count": 3,
     "metadata": {},
     "output_type": "execute_result"
    }
   ],
   "source": [
    "C = pd.read_csv('exome.coverage.txt',sep='\\t')\n",
    "C.head()"
   ]
  },
  {
   "cell_type": "code",
   "execution_count": 4,
   "id": "incredible-conditioning",
   "metadata": {},
   "outputs": [],
   "source": [
    "# Inputs:\n",
    "   # m: maf file\n",
    "   # C: coverage file \n",
    "def uniform_significance_model(m,C):\n",
    "    \n",
    "    # Implement your driver discovery algorithm:\n",
    "    ## - Infer necessary mutation rate parameters from silent mutations\n",
    "    ## - Calculate probability of seeing observed number of nonsilent mutations (or greater) per gene\n",
    "    ## Return dataframe with the results per gene\n",
    "    pass"
   ]
  },
  {
   "cell_type": "code",
   "execution_count": 5,
   "id": "marine-headquarters",
   "metadata": {},
   "outputs": [],
   "source": [
    "results = uniform_significance_model(m,C)"
   ]
  },
  {
   "cell_type": "markdown",
   "id": "flush-standard",
   "metadata": {},
   "source": [
    "### (b) Make a qq plot of the results. Color ground truth drivers"
   ]
  },
  {
   "cell_type": "code",
   "execution_count": 11,
   "id": "valued-paradise",
   "metadata": {},
   "outputs": [
    {
     "data": {
      "text/html": [
       "<div>\n",
       "<style scoped>\n",
       "    .dataframe tbody tr th:only-of-type {\n",
       "        vertical-align: middle;\n",
       "    }\n",
       "\n",
       "    .dataframe tbody tr th {\n",
       "        vertical-align: top;\n",
       "    }\n",
       "\n",
       "    .dataframe thead th {\n",
       "        text-align: right;\n",
       "    }\n",
       "</style>\n",
       "<table border=\"1\" class=\"dataframe\">\n",
       "  <thead>\n",
       "    <tr style=\"text-align: right;\">\n",
       "      <th></th>\n",
       "      <th>gene</th>\n",
       "      <th>freq</th>\n",
       "    </tr>\n",
       "  </thead>\n",
       "  <tbody>\n",
       "    <tr>\n",
       "      <th>0</th>\n",
       "      <td>BRAF</td>\n",
       "      <td>0.63</td>\n",
       "    </tr>\n",
       "    <tr>\n",
       "      <th>1</th>\n",
       "      <td>NRAS</td>\n",
       "      <td>0.23</td>\n",
       "    </tr>\n",
       "    <tr>\n",
       "      <th>2</th>\n",
       "      <td>BCLAF1</td>\n",
       "      <td>0.18</td>\n",
       "    </tr>\n",
       "    <tr>\n",
       "      <th>3</th>\n",
       "      <td>TP53</td>\n",
       "      <td>0.17</td>\n",
       "    </tr>\n",
       "    <tr>\n",
       "      <th>4</th>\n",
       "      <td>CDKN2A</td>\n",
       "      <td>0.15</td>\n",
       "    </tr>\n",
       "  </tbody>\n",
       "</table>\n",
       "</div>"
      ],
      "text/plain": [
       "     gene  freq\n",
       "0    BRAF  0.63\n",
       "1    NRAS  0.23\n",
       "2  BCLAF1  0.18\n",
       "3    TP53  0.17\n",
       "4  CDKN2A  0.15"
      ]
     },
     "execution_count": 11,
     "metadata": {},
     "output_type": "execute_result"
    }
   ],
   "source": [
    "# Here's the ground truth list of drivers spiked in, and their frequencies.\n",
    "# Do not use any part of this file in your significance model!!!!!\n",
    "drivers = pd.read_csv('MEL_mutsig_gene_frequencies.txt',sep='\\t')\n",
    "drivers.head()"
   ]
  },
  {
   "cell_type": "code",
   "execution_count": 6,
   "id": "reflected-acrobat",
   "metadata": {},
   "outputs": [],
   "source": [
    "def qq(results):\n",
    "    # Implement\n",
    "    pass"
   ]
  },
  {
   "cell_type": "code",
   "execution_count": 7,
   "id": "plain-wayne",
   "metadata": {},
   "outputs": [],
   "source": [
    "qq(results)"
   ]
  },
  {
   "cell_type": "markdown",
   "id": "hindu-following",
   "metadata": {},
   "source": [
    "### (c) Calulate your false positive and negative rate with and without bonferonni FWER correction. Do the same with Benjamini-Hochberg FDR correction."
   ]
  },
  {
   "cell_type": "markdown",
   "id": "turkish-composer",
   "metadata": {},
   "source": [
    "### (d) Using your inferred background mutation rate, calculate your power to detect driver mutations as a function of the number of patients observed. Draw such curves for drivers at 5%, 10%, 20%, and 50% frequencies. Assume the gene is of length 1.5kb and that 3/4 of the possible mutations would cause a nonsilent effect. For simplicity you may assume we plan to use bonferonni correction rather than FDR."
   ]
  },
  {
   "cell_type": "code",
   "execution_count": null,
   "id": "comparable-georgia",
   "metadata": {},
   "outputs": [],
   "source": []
  },
  {
   "cell_type": "markdown",
   "id": "robust-narrow",
   "metadata": {},
   "source": [
    "## Question 2. Real data"
   ]
  },
  {
   "cell_type": "markdown",
   "id": "appointed-convert",
   "metadata": {},
   "source": [
    "### (a) Taking the real MEL data, again test significance with your already implemented model. Make diagnostic plots as before. Comment on whether the results seem reasonable. If you have \"new\" drivers, explore several on tumorportal.org (include screenshots with your submission) and discuss whether you think they are genuine drivers or if not, what factors could be leading to false positives."
   ]
  },
  {
   "cell_type": "markdown",
   "id": "outside-rough",
   "metadata": {},
   "source": [
    "### (b) Take the genomic covariates, and perform an exploratory analysis to examine their relationship with mutation rate in this dataset. Which are positively correlated? Which negatively? "
   ]
  },
  {
   "cell_type": "markdown",
   "id": "stone-worthy",
   "metadata": {},
   "source": [
    "### (c) Implement a new model that uses the genomic covariates to better estimate the mutation rate. Feel free to use regression models implemented by packages such as sklearn (but do not use any genomics-specific packages). Make sure to do any appropriate pre-processing to covariates before using them. Perfect performance is not expected, but inclusion of covariates should yield an improvement over the baseline model."
   ]
  },
  {
   "cell_type": "code",
   "execution_count": 8,
   "id": "elegant-greeting",
   "metadata": {},
   "outputs": [
    {
     "data": {
      "text/html": [
       "<div>\n",
       "<style scoped>\n",
       "    .dataframe tbody tr th:only-of-type {\n",
       "        vertical-align: middle;\n",
       "    }\n",
       "\n",
       "    .dataframe tbody tr th {\n",
       "        vertical-align: top;\n",
       "    }\n",
       "\n",
       "    .dataframe thead th {\n",
       "        text-align: right;\n",
       "    }\n",
       "</style>\n",
       "<table border=\"1\" class=\"dataframe\">\n",
       "  <thead>\n",
       "    <tr style=\"text-align: right;\">\n",
       "      <th></th>\n",
       "      <th>expr</th>\n",
       "      <th>reptime</th>\n",
       "      <th>hic</th>\n",
       "    </tr>\n",
       "    <tr>\n",
       "      <th>gene</th>\n",
       "      <th></th>\n",
       "      <th></th>\n",
       "      <th></th>\n",
       "    </tr>\n",
       "  </thead>\n",
       "  <tbody>\n",
       "    <tr>\n",
       "      <th>A1BG</th>\n",
       "      <td>1621097.0</td>\n",
       "      <td>406.0</td>\n",
       "      <td>-25.0</td>\n",
       "    </tr>\n",
       "    <tr>\n",
       "      <th>A1CF</th>\n",
       "      <td>113129.0</td>\n",
       "      <td>613.0</td>\n",
       "      <td>19.0</td>\n",
       "    </tr>\n",
       "    <tr>\n",
       "      <th>A2BP1</th>\n",
       "      <td>2474.0</td>\n",
       "      <td>1138.0</td>\n",
       "      <td>-47.0</td>\n",
       "    </tr>\n",
       "    <tr>\n",
       "      <th>A2M</th>\n",
       "      <td>348389.0</td>\n",
       "      <td>364.0</td>\n",
       "      <td>17.0</td>\n",
       "    </tr>\n",
       "    <tr>\n",
       "      <th>A2ML1</th>\n",
       "      <td>300254.0</td>\n",
       "      <td>407.0</td>\n",
       "      <td>12.0</td>\n",
       "    </tr>\n",
       "  </tbody>\n",
       "</table>\n",
       "</div>"
      ],
      "text/plain": [
       "            expr  reptime   hic\n",
       "gene                           \n",
       "A1BG   1621097.0    406.0 -25.0\n",
       "A1CF    113129.0    613.0  19.0\n",
       "A2BP1     2474.0   1138.0 -47.0\n",
       "A2M     348389.0    364.0  17.0\n",
       "A2ML1   300254.0    407.0  12.0"
      ]
     },
     "execution_count": 8,
     "metadata": {},
     "output_type": "execute_result"
    }
   ],
   "source": [
    "X = pd.read_csv('gene.covariates.txt',sep='\\t').set_index('gene')\n",
    "X.head()"
   ]
  },
  {
   "cell_type": "code",
   "execution_count": 9,
   "id": "periodic-nashville",
   "metadata": {},
   "outputs": [],
   "source": [
    "# Inputs:\n",
    "   # m: maf file\n",
    "   # C: coverage file \n",
    "   # X: \n",
    "def pergene_significance_model(m,C,X):\n",
    "    \n",
    "    # Implement your driver discovery algorithm:\n",
    "    ## - Infer necessary mutation rate parameters from silent mutations\n",
    "    ## - Calculate probability of seeing observed number of nonsilent mutations (or greater) per gene\n",
    "    ## Return dataframe with the results per gene\n",
    "    pass"
   ]
  },
  {
   "cell_type": "code",
   "execution_count": 10,
   "id": "russian-vaccine",
   "metadata": {},
   "outputs": [],
   "source": [
    "results_pergenemodel = uniform_significance_model(m,C)"
   ]
  },
  {
   "cell_type": "markdown",
   "id": "experimental-extraction",
   "metadata": {},
   "source": [
    "### (d) Again make diagnostic plots and results. Is your test well calibrated? What is the overlap with previously reported MutSig genes? Investigate several disagreeing genes on tumorportal.org and discuss whether you think they are real drivers or false positives. If the later, discuss (but you do not need to implement) improvements to the model that might help further refine your driver list. \n"
   ]
  },
  {
   "cell_type": "code",
   "execution_count": null,
   "id": "royal-elite",
   "metadata": {},
   "outputs": [],
   "source": []
  }
 ],
 "metadata": {
  "kernelspec": {
   "display_name": "Python 3",
   "language": "python",
   "name": "python3"
  },
  "language_info": {
   "codemirror_mode": {
    "name": "ipython",
    "version": 3
   },
   "file_extension": ".py",
   "mimetype": "text/x-python",
   "name": "python",
   "nbconvert_exporter": "python",
   "pygments_lexer": "ipython3",
   "version": "3.8.5"
  }
 },
 "nbformat": 4,
 "nbformat_minor": 5
}
