{
 "cells": [
  {
   "cell_type": "markdown",
   "id": "plain-maker",
   "metadata": {},
   "source": [
    "# HW1. Driver discovery\n",
    "\n",
    "In this problem set, you will implement several iterations of a driver discovery algorithm and examine their performance on simulated and real data. Code snippets are provided as a jumping off point, but are not necessary to use (and if desired you may do this problem set in a language other than python). Code should be well documented and easy to follow, and should be runnable as a single notebook or script.\n",
    "\n",
    "Included are the following files:\n",
    "\n",
    "\n",
    "## MEL_simulated_mutations_uniform_model.maf\n",
    "Simulated data assuming passenger mutations accumulated at some fixed probability per base (which you will need to infer), in addition to spiked-in driver mutations in the cancer genes reported for Melanomas on http://tumorportal.org/ (MEL dataset). Each line corresponds to a single mutation, and the following information is provided:\n",
    "- The gene in which the mutation occurred\n",
    "- The patient in which the mutation was found\n",
    "- What the protein coding effect of the mutation was. For simplicity all non-silent mutations are classified as missense.\n",
    "\n",
    "\n",
    "## MEL.maf\n",
    "\n",
    "A list of mutations observed in melanomas sequenced in Berger et al. *Cell* (2012) as downloaded from http://tumorportal.org/. Additional information given about these mutations include:\n",
    "- classification: Whether the mutation was a point mutation (SNP), deletion (DEL), insertion (INS), dinucleotide mutation (DNP), or trinucleotide mutation (TNP). \n",
    "- chr: the chromosome on which the mutation occured.\n",
    "- pos: the chromosomal position at which the mutation occurred.\n",
    "- ref_allele: The reference genome base at the position of the mutation.\n",
    "- newbase: The nucleotide to which the base was changed after the mutation.\n",
    "\n",
    "## exome.coverage.txt\n",
    "\n",
    "This file gives the number of bases at risk for each gene for a given type of mutation resulting in a particular effect. For example, the first line tells us the gene A1BG has 239 A bases at which an A->C mutation would result in a nonsilent mutation. If you summed all the coverage values for a given gene you would get a value $3\\times$ the covered gene length (since each base can be mutated in $3$ possible ways). A covered base in one in which we sequence enough reads covering it to be able to make a mutation call if one exists. This file is derived from the covarage file used by MutSigCV (Lawrence et al., *Nature* (2013)) https://software.broadinstitute.org/cancer/cga/mutsig).\n",
    "\n",
    "## gene.covariates.txt\n",
    "Gene-level covariates of mutation rate, again sourced from MutSigCV, include expression data averaged across cancer cell lines from different tumor types, replication timing data, and a Hi-C derived measure of chromatin openness. \n"
   ]
  },
  {
   "cell_type": "code",
   "execution_count": null,
   "id": "brutal-thousand",
   "metadata": {},
   "outputs": [],
   "source": [
    "# Some possibly useful imports (if using python)\n",
    "import pandas as pd\n",
    "import numpy as np\n",
    "import matplotlib.pyplot as plt\n",
    "import seaborn as sns\n",
    "from scipy.stats import binom, poisson, beta, betabinom"
   ]
  },
  {
   "cell_type": "markdown",
   "id": "gentle-stretch",
   "metadata": {},
   "source": [
    "## Question 1. Exploring the dataset"
   ]
  },
  {
   "cell_type": "markdown",
   "id": "acute-controversy",
   "metadata": {},
   "source": [
    "First let's get a feel for the general scope of parameters in the genome and this Melanoma dataset. Calculate/plot the following:\n",
    "- The number of genes with $\\geq 1$ mutation in the dataset\n",
    "- The number of patients in the dataset\n",
    "- A histogram of number of mutations per patient across the dataset (in log10 scale). What is the median number of mutations for a patient?\n",
    "- The ratio of non-silent:silent mutations in the dataset\n",
    "- The 25 most highly mutated genes (in terms of absolute number of mutations)\n",
    "- The 25 longest genes in the coverage file"
   ]
  },
  {
   "cell_type": "code",
   "execution_count": 3,
   "id": "difficult-wright",
   "metadata": {},
   "outputs": [
    {
     "data": {
      "text/html": [
       "<div>\n",
       "<style scoped>\n",
       "    .dataframe tbody tr th:only-of-type {\n",
       "        vertical-align: middle;\n",
       "    }\n",
       "\n",
       "    .dataframe tbody tr th {\n",
       "        vertical-align: top;\n",
       "    }\n",
       "\n",
       "    .dataframe thead th {\n",
       "        text-align: right;\n",
       "    }\n",
       "</style>\n",
       "<table border=\"1\" class=\"dataframe\">\n",
       "  <thead>\n",
       "    <tr style=\"text-align: right;\">\n",
       "      <th></th>\n",
       "      <th>ttype</th>\n",
       "      <th>patient</th>\n",
       "      <th>gene</th>\n",
       "      <th>classification</th>\n",
       "      <th>type</th>\n",
       "      <th>chr</th>\n",
       "      <th>pos</th>\n",
       "      <th>ref_allele</th>\n",
       "      <th>newbase</th>\n",
       "      <th>context65</th>\n",
       "      <th>cons46</th>\n",
       "    </tr>\n",
       "  </thead>\n",
       "  <tbody>\n",
       "    <tr>\n",
       "      <th>0</th>\n",
       "      <td>MEL</td>\n",
       "      <td>ME001</td>\n",
       "      <td>C1orf127</td>\n",
       "      <td>SNP</td>\n",
       "      <td>Missense_Mutation</td>\n",
       "      <td>1</td>\n",
       "      <td>11024199</td>\n",
       "      <td>G</td>\n",
       "      <td>C</td>\n",
       "      <td>42</td>\n",
       "      <td>54.0</td>\n",
       "    </tr>\n",
       "    <tr>\n",
       "      <th>1</th>\n",
       "      <td>MEL</td>\n",
       "      <td>ME001</td>\n",
       "      <td>TNFRSF4</td>\n",
       "      <td>SNP</td>\n",
       "      <td>Silent</td>\n",
       "      <td>1</td>\n",
       "      <td>1147121</td>\n",
       "      <td>C</td>\n",
       "      <td>T</td>\n",
       "      <td>22</td>\n",
       "      <td>51.0</td>\n",
       "    </tr>\n",
       "    <tr>\n",
       "      <th>2</th>\n",
       "      <td>MEL</td>\n",
       "      <td>ME001</td>\n",
       "      <td>NRAS</td>\n",
       "      <td>SNP</td>\n",
       "      <td>Missense_Mutation</td>\n",
       "      <td>1</td>\n",
       "      <td>115256530</td>\n",
       "      <td>G</td>\n",
       "      <td>T</td>\n",
       "      <td>48</td>\n",
       "      <td>99.0</td>\n",
       "    </tr>\n",
       "    <tr>\n",
       "      <th>3</th>\n",
       "      <td>MEL</td>\n",
       "      <td>ME001</td>\n",
       "      <td>C1orf158</td>\n",
       "      <td>SNP</td>\n",
       "      <td>Silent</td>\n",
       "      <td>1</td>\n",
       "      <td>12815748</td>\n",
       "      <td>G</td>\n",
       "      <td>A</td>\n",
       "      <td>41</td>\n",
       "      <td>39.0</td>\n",
       "    </tr>\n",
       "    <tr>\n",
       "      <th>4</th>\n",
       "      <td>MEL</td>\n",
       "      <td>ME001</td>\n",
       "      <td>PPIAL4G</td>\n",
       "      <td>SNP</td>\n",
       "      <td>Missense_Mutation</td>\n",
       "      <td>1</td>\n",
       "      <td>143767710</td>\n",
       "      <td>G</td>\n",
       "      <td>A</td>\n",
       "      <td>37</td>\n",
       "      <td>59.0</td>\n",
       "    </tr>\n",
       "  </tbody>\n",
       "</table>\n",
       "</div>"
      ],
      "text/plain": [
       "  ttype patient      gene classification               type  chr        pos  \\\n",
       "0   MEL   ME001  C1orf127            SNP  Missense_Mutation    1   11024199   \n",
       "1   MEL   ME001   TNFRSF4            SNP             Silent    1    1147121   \n",
       "2   MEL   ME001      NRAS            SNP  Missense_Mutation    1  115256530   \n",
       "3   MEL   ME001  C1orf158            SNP             Silent    1   12815748   \n",
       "4   MEL   ME001   PPIAL4G            SNP  Missense_Mutation    1  143767710   \n",
       "\n",
       "  ref_allele newbase  context65  cons46  \n",
       "0          G       C         42    54.0  \n",
       "1          C       T         22    51.0  \n",
       "2          G       T         48    99.0  \n",
       "3          G       A         41    39.0  \n",
       "4          G       A         37    59.0  "
      ]
     },
     "execution_count": 3,
     "metadata": {},
     "output_type": "execute_result"
    }
   ],
   "source": [
    "## Load maf file\n",
    "m = pd.read_csv('MEL.maf',sep='\\t')\n",
    "m.head()"
   ]
  },
  {
   "cell_type": "code",
   "execution_count": 4,
   "id": "hawaiian-alias",
   "metadata": {},
   "outputs": [
    {
     "data": {
      "text/html": [
       "<div>\n",
       "<style scoped>\n",
       "    .dataframe tbody tr th:only-of-type {\n",
       "        vertical-align: middle;\n",
       "    }\n",
       "\n",
       "    .dataframe tbody tr th {\n",
       "        vertical-align: top;\n",
       "    }\n",
       "\n",
       "    .dataframe thead th {\n",
       "        text-align: right;\n",
       "    }\n",
       "</style>\n",
       "<table border=\"1\" class=\"dataframe\">\n",
       "  <thead>\n",
       "    <tr style=\"text-align: right;\">\n",
       "      <th></th>\n",
       "      <th>gene</th>\n",
       "      <th>mutation</th>\n",
       "      <th>effect</th>\n",
       "      <th>coverage</th>\n",
       "    </tr>\n",
       "  </thead>\n",
       "  <tbody>\n",
       "    <tr>\n",
       "      <th>0</th>\n",
       "      <td>A1BG</td>\n",
       "      <td>A-&gt;C</td>\n",
       "      <td>nonsilent</td>\n",
       "      <td>239</td>\n",
       "    </tr>\n",
       "    <tr>\n",
       "      <th>1</th>\n",
       "      <td>A1BG</td>\n",
       "      <td>A-&gt;C</td>\n",
       "      <td>silent</td>\n",
       "      <td>26</td>\n",
       "    </tr>\n",
       "    <tr>\n",
       "      <th>2</th>\n",
       "      <td>A1BG</td>\n",
       "      <td>A-&gt;G</td>\n",
       "      <td>nonsilent</td>\n",
       "      <td>211</td>\n",
       "    </tr>\n",
       "    <tr>\n",
       "      <th>3</th>\n",
       "      <td>A1BG</td>\n",
       "      <td>A-&gt;G</td>\n",
       "      <td>silent</td>\n",
       "      <td>54</td>\n",
       "    </tr>\n",
       "    <tr>\n",
       "      <th>4</th>\n",
       "      <td>A1BG</td>\n",
       "      <td>A-&gt;T</td>\n",
       "      <td>nonsilent</td>\n",
       "      <td>236</td>\n",
       "    </tr>\n",
       "  </tbody>\n",
       "</table>\n",
       "</div>"
      ],
      "text/plain": [
       "   gene mutation     effect  coverage\n",
       "0  A1BG     A->C  nonsilent       239\n",
       "1  A1BG     A->C     silent        26\n",
       "2  A1BG     A->G  nonsilent       211\n",
       "3  A1BG     A->G     silent        54\n",
       "4  A1BG     A->T  nonsilent       236"
      ]
     },
     "execution_count": 4,
     "metadata": {},
     "output_type": "execute_result"
    }
   ],
   "source": [
    "C = pd.read_csv('exome.coverage.txt',sep='\\t')\n",
    "C.head()"
   ]
  },
  {
   "cell_type": "markdown",
   "id": "interracial-chain",
   "metadata": {},
   "source": [
    "## Question 2. Driver discovery on simulated data"
   ]
  },
  {
   "cell_type": "markdown",
   "id": "higher-stanford",
   "metadata": {},
   "source": [
    "### (a) Now let's start to develop a simple driver discovery model. Using the simulated data provided, implement and apply a model that assumes a uniform mutation rate across all patients and bases of the genome similar to the example discussed in class. First, infer the mutation rate parameter from silent mutations. Then test whether we see more non-silent mutations than expected by chance. You should return a dataframe with the following values for every gene:\n",
    "\n",
    "- A p-value testing the null hypothesis of seeing the number of nonsilent mutations (or more) by your inferred background mutation rate\n",
    "- A Bonferonni FWER corrected p-value\n",
    "- A Benjamini-Hochberg FDR corrected p-value"
   ]
  },
  {
   "cell_type": "code",
   "execution_count": null,
   "id": "chinese-second",
   "metadata": {},
   "outputs": [],
   "source": [
    "## Load simulated maf file\n",
    "m_sim = pd.read_csv('MEL_simulated_mutations_uniform_model.maf',sep='\\t')\n",
    "m_sim.head()"
   ]
  },
  {
   "cell_type": "code",
   "execution_count": null,
   "id": "endless-roads",
   "metadata": {},
   "outputs": [],
   "source": [
    "# Inputs:\n",
    "   # m: maf file\n",
    "   # C: coverage file \n",
    "def uniform_significance_model(m,C):\n",
    "    \n",
    "    # Implement your driver discovery algorithm:\n",
    "    ## - Infer necessary mutation rate parameters from silent mutations\n",
    "    ## - Calculate probability of seeing observed number of nonsilent mutations (or greater) per gene\n",
    "    ## Return dataframe with the results per gene\n",
    "    pass"
   ]
  },
  {
   "cell_type": "code",
   "execution_count": null,
   "id": "bibliographic-following",
   "metadata": {},
   "outputs": [],
   "source": [
    "results = uniform_significance_model(m_sim,C)"
   ]
  },
  {
   "cell_type": "markdown",
   "id": "female-producer",
   "metadata": {},
   "source": [
    "### (b) Make a qq plot of the results. Color ground truth drivers"
   ]
  },
  {
   "cell_type": "code",
   "execution_count": null,
   "id": "different-manual",
   "metadata": {},
   "outputs": [],
   "source": [
    "# Here's the ground truth list of drivers spiked in, and their frequencies.\n",
    "# Do not use any part of this file in your significance model!!!!!\n",
    "drivers = pd.read_csv('MEL_mutsig_gene_frequencies.txt',sep='\\t')\n",
    "drivers.head()"
   ]
  },
  {
   "cell_type": "code",
   "execution_count": null,
   "id": "commercial-democracy",
   "metadata": {},
   "outputs": [],
   "source": [
    "def qq(results):\n",
    "    # Implement\n",
    "    pass"
   ]
  },
  {
   "cell_type": "code",
   "execution_count": null,
   "id": "integrated-palestine",
   "metadata": {},
   "outputs": [],
   "source": [
    "qq(results)"
   ]
  },
  {
   "cell_type": "markdown",
   "id": "younger-demonstration",
   "metadata": {},
   "source": [
    "### (c) Calulate your false positive and negative rate with and without Bonferonni FWER correction. Do the same with Benjamini-Hochberg FDR correction."
   ]
  },
  {
   "cell_type": "markdown",
   "id": "sixth-stanley",
   "metadata": {},
   "source": [
    "### (d) Using your inferred background mutation rate, calculate your power to detect driver mutations as a function of the number of patients observed. Draw such curves for drivers at 5%, 10%, 20%, and 50% frequencies. Assume the gene which you are testing is of length 1.5kb and that 3/4 of the possible mutations would cause a nonsilent effect. For simplicity you may assume we plan to use Bonferonni correction rather than FDR."
   ]
  },
  {
   "cell_type": "markdown",
   "id": "referenced-blank",
   "metadata": {},
   "source": [
    "## Question 3. Driver discovery on real data"
   ]
  },
  {
   "cell_type": "code",
   "execution_count": 2,
   "id": "systematic-blade",
   "metadata": {},
   "outputs": [
    {
     "data": {
      "text/html": [
       "<div>\n",
       "<style scoped>\n",
       "    .dataframe tbody tr th:only-of-type {\n",
       "        vertical-align: middle;\n",
       "    }\n",
       "\n",
       "    .dataframe tbody tr th {\n",
       "        vertical-align: top;\n",
       "    }\n",
       "\n",
       "    .dataframe thead th {\n",
       "        text-align: right;\n",
       "    }\n",
       "</style>\n",
       "<table border=\"1\" class=\"dataframe\">\n",
       "  <thead>\n",
       "    <tr style=\"text-align: right;\">\n",
       "      <th></th>\n",
       "      <th>ttype</th>\n",
       "      <th>patient</th>\n",
       "      <th>gene</th>\n",
       "      <th>classification</th>\n",
       "      <th>type</th>\n",
       "      <th>chr</th>\n",
       "      <th>pos</th>\n",
       "      <th>ref_allele</th>\n",
       "      <th>newbase</th>\n",
       "      <th>context65</th>\n",
       "      <th>cons46</th>\n",
       "    </tr>\n",
       "  </thead>\n",
       "  <tbody>\n",
       "    <tr>\n",
       "      <th>0</th>\n",
       "      <td>MEL</td>\n",
       "      <td>ME001</td>\n",
       "      <td>C1orf127</td>\n",
       "      <td>SNP</td>\n",
       "      <td>Missense_Mutation</td>\n",
       "      <td>1</td>\n",
       "      <td>11024199</td>\n",
       "      <td>G</td>\n",
       "      <td>C</td>\n",
       "      <td>42</td>\n",
       "      <td>54.0</td>\n",
       "    </tr>\n",
       "    <tr>\n",
       "      <th>1</th>\n",
       "      <td>MEL</td>\n",
       "      <td>ME001</td>\n",
       "      <td>TNFRSF4</td>\n",
       "      <td>SNP</td>\n",
       "      <td>Silent</td>\n",
       "      <td>1</td>\n",
       "      <td>1147121</td>\n",
       "      <td>C</td>\n",
       "      <td>T</td>\n",
       "      <td>22</td>\n",
       "      <td>51.0</td>\n",
       "    </tr>\n",
       "    <tr>\n",
       "      <th>2</th>\n",
       "      <td>MEL</td>\n",
       "      <td>ME001</td>\n",
       "      <td>NRAS</td>\n",
       "      <td>SNP</td>\n",
       "      <td>Missense_Mutation</td>\n",
       "      <td>1</td>\n",
       "      <td>115256530</td>\n",
       "      <td>G</td>\n",
       "      <td>T</td>\n",
       "      <td>48</td>\n",
       "      <td>99.0</td>\n",
       "    </tr>\n",
       "    <tr>\n",
       "      <th>3</th>\n",
       "      <td>MEL</td>\n",
       "      <td>ME001</td>\n",
       "      <td>C1orf158</td>\n",
       "      <td>SNP</td>\n",
       "      <td>Silent</td>\n",
       "      <td>1</td>\n",
       "      <td>12815748</td>\n",
       "      <td>G</td>\n",
       "      <td>A</td>\n",
       "      <td>41</td>\n",
       "      <td>39.0</td>\n",
       "    </tr>\n",
       "    <tr>\n",
       "      <th>4</th>\n",
       "      <td>MEL</td>\n",
       "      <td>ME001</td>\n",
       "      <td>PPIAL4G</td>\n",
       "      <td>SNP</td>\n",
       "      <td>Missense_Mutation</td>\n",
       "      <td>1</td>\n",
       "      <td>143767710</td>\n",
       "      <td>G</td>\n",
       "      <td>A</td>\n",
       "      <td>37</td>\n",
       "      <td>59.0</td>\n",
       "    </tr>\n",
       "  </tbody>\n",
       "</table>\n",
       "</div>"
      ],
      "text/plain": [
       "  ttype patient      gene classification               type  chr        pos  \\\n",
       "0   MEL   ME001  C1orf127            SNP  Missense_Mutation    1   11024199   \n",
       "1   MEL   ME001   TNFRSF4            SNP             Silent    1    1147121   \n",
       "2   MEL   ME001      NRAS            SNP  Missense_Mutation    1  115256530   \n",
       "3   MEL   ME001  C1orf158            SNP             Silent    1   12815748   \n",
       "4   MEL   ME001   PPIAL4G            SNP  Missense_Mutation    1  143767710   \n",
       "\n",
       "  ref_allele newbase  context65  cons46  \n",
       "0          G       C         42    54.0  \n",
       "1          C       T         22    51.0  \n",
       "2          G       T         48    99.0  \n",
       "3          G       A         41    39.0  \n",
       "4          G       A         37    59.0  "
      ]
     },
     "execution_count": 2,
     "metadata": {},
     "output_type": "execute_result"
    }
   ],
   "source": [
    "## Load maf file\n",
    "m = pd.read_csv('MEL.maf',sep='\\t')\n",
    "m.head()"
   ]
  },
  {
   "cell_type": "markdown",
   "id": "random-syndicate",
   "metadata": {},
   "source": [
    "### (a) Taking the real Melanoma data, again test significance with your already implemented model. Make diagnostic plots as before. Comment on whether the results seem reasonable. If you have \"new\" drivers, explore several on tumorportal.org (include screenshots with your submission) and discuss whether you think they are genuine drivers or if not, what factors could be leading to false positives."
   ]
  },
  {
   "cell_type": "markdown",
   "id": "designed-remark",
   "metadata": {},
   "source": [
    "### (b) Take the genomic covariates, and perform an exploratory analysis to examine their relationship with mutation rate in this dataset. Which are positively correlated? Which negatively? Hint: you may need to bin or smooth genes of similar covariate values for clearest vizualization."
   ]
  },
  {
   "cell_type": "markdown",
   "id": "altered-subscription",
   "metadata": {},
   "source": [
    "### (c) Implement a new model that uses the genomic covariates to better estimate the mutation rate. Feel free to use regression models implemented by packages such as sklearn or statsmodels (but do not use any genomics-specific packages). Make sure to do any appropriate pre-processing to covariates before using them. Perfect performance is not expected, but inclusion of covariates should yield an improvement over the baseline model."
   ]
  },
  {
   "cell_type": "code",
   "execution_count": null,
   "id": "blessed-equity",
   "metadata": {},
   "outputs": [],
   "source": [
    "X = pd.read_csv('gene.covariates.txt',sep='\\t').set_index('gene')\n",
    "X.head()"
   ]
  },
  {
   "cell_type": "code",
   "execution_count": null,
   "id": "independent-nebraska",
   "metadata": {},
   "outputs": [],
   "source": [
    "# Inputs:\n",
    "   # m: maf file\n",
    "   # C: coverage file \n",
    "   # X: Genomic coveriates\n",
    "def pergene_significance_model(m,C,X):\n",
    "    \n",
    "    # Implement your driver discovery algorithm:\n",
    "    ## - Infer necessary mutation rate parameters from silent mutations\n",
    "        ## - e.g. Fit a regression model that predicts the mutation rate for each gene using the covariates\n",
    "    ## - Calculate the probability of seeing observed number of nonsilent mutations (or greater) per gene\n",
    "    ## using your gene-specific mutation rate estimates\n",
    "    ## Return dataframe with the results per gene\n",
    "    pass"
   ]
  },
  {
   "cell_type": "code",
   "execution_count": null,
   "id": "major-cartridge",
   "metadata": {},
   "outputs": [],
   "source": [
    "results_pergenemodel = pergene_significance_model(m,C,X)"
   ]
  },
  {
   "cell_type": "markdown",
   "id": "complicated-madrid",
   "metadata": {},
   "source": [
    "### (d) Again make diagnostic plots and results. Is your test well calibrated? What is the overlap with previously reported MutSig genes? Investigate several disagreeing genes on tumorportal.org and discuss whether you think they are real drivers or false positives. If the later, discuss (but you do not need to implement) improvements to the model that might help further refine your driver list. \n"
   ]
  },
  {
   "cell_type": "code",
   "execution_count": null,
   "id": "coral-investing",
   "metadata": {},
   "outputs": [],
   "source": []
  }
 ],
 "metadata": {
  "kernelspec": {
   "display_name": "Python 3",
   "language": "python",
   "name": "python3"
  },
  "language_info": {
   "codemirror_mode": {
    "name": "ipython",
    "version": 3
   },
   "file_extension": ".py",
   "mimetype": "text/x-python",
   "name": "python",
   "nbconvert_exporter": "python",
   "pygments_lexer": "ipython3",
   "version": "3.8.5"
  }
 },
 "nbformat": 4,
 "nbformat_minor": 5
}
