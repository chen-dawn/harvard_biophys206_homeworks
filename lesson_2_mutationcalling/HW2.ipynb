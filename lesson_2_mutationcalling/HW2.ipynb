{
 "cells": [
  {
   "cell_type": "markdown",
   "id": "essential-galaxy",
   "metadata": {},
   "source": [
    "# HW2. NGS data processing and mutation calling"
   ]
  },
  {
   "cell_type": "markdown",
   "id": "electric-breakfast",
   "metadata": {},
   "source": [
    "In this homework we will be taking raw sequencing data in fastq format (as one might recieve from a sequencing center) and performing alignment and mutation calling. For the dataset we are using data simulated as part of the ICGC-TCGA DREAM challenge, in which we know certain somatic events were spiked in to the tumor sample (and not the normal). The caller will need to identify these events, and distinguish them from germline mutations and other artifactual signals. To lessen the computational load, we've restricted to reads mapping to chromosome 6 (in the original alignment) and will only call mutations there. Files were sourced and modified from below\n",
    "\n",
    "https://github.com/bcbio/bcbio-nextgen/tree/master/config/teaching\n",
    "\n",
    "To complete this homework, you will need to install the following tools:\n",
    "\n",
    "- IGV https://software.broadinstitute.org/software/igv/\n",
    "- samtools http://www.htslib.org/download/\n",
    "- bwa https://github.com/lh3/bwa\n",
    "\n",
    "Included in the data/ folder are the following files:\n",
    "\n",
    "- cancer-syn3-chr6-[tumor/normal]-[1/2].fq.gz: gzipped fastq files for Read 1 and Read 2(paired end sequencing) of a simulated tumor and normal exome pair. \n",
    "- NGv3-chr6-hg19.noHLA.bed: A list of exonic regions on which you should perform your mutation calling. Restricted to choromosome 6, and the region with HLA genes is removed (it is notoriously tricky due to the high levels of genetic variation in those genes).\n",
    "- ground_truth_mutations.txt: list of somatic mutations that were spiked in as part of the simulation.\n",
    "- Homo_sapiens_assembly19.fasta*: The human reference genome (build hg19) and bwa's pre-built index files"
   ]
  },
  {
   "cell_type": "markdown",
   "id": "directed-remains",
   "metadata": {},
   "source": [
    "## (Question 1) Alignment"
   ]
  },
  {
   "cell_type": "markdown",
   "id": "statutory-xerox",
   "metadata": {},
   "source": [
    "### (1a) By examining the fastq files with unix tools, determine the read lengths of R1 and R2 of this sequencing data. (Remember they are just text files that have been compressed with gzip)"
   ]
  },
  {
   "cell_type": "code",
   "execution_count": 2,
   "id": "prescription-paper",
   "metadata": {},
   "outputs": [],
   "source": [
    "%%bash\n",
    "\n",
    "# You can use the %%bash cell magic to run blocks of bash commands within the notebook"
   ]
  },
  {
   "cell_type": "markdown",
   "id": "distant-carrier",
   "metadata": {},
   "source": [
    "### (1b) Align the data to human genome build hg19 using bwa-mem and the reference files and pre-built indices included. Use \"samtools sort\" to obtain a coordinate-sorted bam file, and \"samtools index\" to index the bam."
   ]
  },
  {
   "cell_type": "markdown",
   "id": "cooked-stack",
   "metadata": {},
   "source": [
    "### (1c) Print the first 10 reads in the bam file using \"samtools view\""
   ]
  },
  {
   "cell_type": "markdown",
   "id": "extended-citizenship",
   "metadata": {},
   "source": [
    "### (1d) Use samtools idxstats to count the number of reads on each chromosome to confirm reads mostly align to chromosome 6"
   ]
  },
  {
   "cell_type": "markdown",
   "id": "premier-horse",
   "metadata": {},
   "source": [
    "## (2) Manual exploration"
   ]
  },
  {
   "cell_type": "markdown",
   "id": "considerable-pennsylvania",
   "metadata": {},
   "source": [
    "#### Using IGV (https://software.broadinstitute.org/software/igv/) and your newly aligned bams, examine the following sites. For each site, show a screenshot and argue if you think there is a somatic, germline, or no mutation. \n",
    "\n",
    "- Site 1 chr6:32261771\n",
    "- Site 2 chr6:31922356\n",
    "- Site 3 chr6:107113731"
   ]
  },
  {
   "cell_type": "markdown",
   "id": "thorough-definition",
   "metadata": {},
   "source": [
    "## (3) Mutation calling"
   ]
  },
  {
   "cell_type": "markdown",
   "id": "sunset-forth",
   "metadata": {},
   "source": [
    "### (3a) Write a simple mutation caller that iterates over each position, and calculates the $LOD_T$ the log likelihood ratio of a somatic mutation vs noise. For each candidation passing $\\theta_T = 6.3$. For each variant, calculate whether $LOD_N$ passes $\\theta_N=2.2$. Report any mutations passing as somatic mutation calls.\n",
    "\n",
    "### To get you started, we have written a loop that iterates over the bam file using pysam and identifies the bases and qualities at every pileup. Mutations only should be considered within the exome calling intervals. If you are using a language other than python, you can either choose to adapt this code using a package in your language, or use samtools to genate a text file with the bases and qualities at each positions.\n",
    "\n",
    "samtools mpileup -A -q30 -f Homo_sapiens_assembly19.fasta -l NGv3-chr6-hg19.bed [your_bam_file] > [your_mpileup_file.txt]\n",
    "\n",
    "### Then process this text file in the language of your choice. Make sure to review the samtools docs for interpretation of the output."
   ]
  },
  {
   "cell_type": "code",
   "execution_count": 4,
   "id": "paperback-lebanon",
   "metadata": {},
   "outputs": [],
   "source": [
    "import pysam\n",
    "import pandas as pd\n",
    "import numpy as np\n",
    "from collections import Counter"
   ]
  },
  {
   "cell_type": "code",
   "execution_count": 16,
   "id": "improved-peeing",
   "metadata": {},
   "outputs": [],
   "source": [
    "# Given a pileupcolumn object, returns list of bases \n",
    "def get_bases_and_qualities(pileupcolumn):\n",
    "\n",
    "    bases = pileupcolumn.get_query_sequences()\n",
    "    quals = pileupcolumn.get_query_qualities()\n",
    "    \n",
    "    bases = np.char.upper(np.array(bases))\n",
    "    quals = np.array(quals)\n",
    "    \n",
    "    return bases,quals"
   ]
  },
  {
   "cell_type": "code",
   "execution_count": 17,
   "id": "unauthorized-trader",
   "metadata": {},
   "outputs": [],
   "source": [
    "# For mutation ref_base -> alt occuring at allele fraction f,\n",
    "# calculate the LOD given bases and qualities at a pileup\n",
    "def calc_LOD(bases,quals,ref_base,alt,f):\n",
    "    ### To do: Implement this function\n",
    "    pass\n",
    "        \n"
   ]
  },
  {
   "cell_type": "code",
   "execution_count": 20,
   "id": "federal-prize",
   "metadata": {},
   "outputs": [
    {
     "data": {
      "text/html": [
       "<div>\n",
       "<style scoped>\n",
       "    .dataframe tbody tr th:only-of-type {\n",
       "        vertical-align: middle;\n",
       "    }\n",
       "\n",
       "    .dataframe tbody tr th {\n",
       "        vertical-align: top;\n",
       "    }\n",
       "\n",
       "    .dataframe thead th {\n",
       "        text-align: right;\n",
       "    }\n",
       "</style>\n",
       "<table border=\"1\" class=\"dataframe\">\n",
       "  <thead>\n",
       "    <tr style=\"text-align: right;\">\n",
       "      <th></th>\n",
       "      <th>chrom</th>\n",
       "      <th>st</th>\n",
       "      <th>en</th>\n",
       "    </tr>\n",
       "  </thead>\n",
       "  <tbody>\n",
       "    <tr>\n",
       "      <th>0</th>\n",
       "      <td>6</td>\n",
       "      <td>105670</td>\n",
       "      <td>106956</td>\n",
       "    </tr>\n",
       "    <tr>\n",
       "      <th>1</th>\n",
       "      <td>6</td>\n",
       "      <td>123624</td>\n",
       "      <td>124168</td>\n",
       "    </tr>\n",
       "    <tr>\n",
       "      <th>2</th>\n",
       "      <td>6</td>\n",
       "      <td>131690</td>\n",
       "      <td>132266</td>\n",
       "    </tr>\n",
       "    <tr>\n",
       "      <th>3</th>\n",
       "      <td>6</td>\n",
       "      <td>146097</td>\n",
       "      <td>146761</td>\n",
       "    </tr>\n",
       "    <tr>\n",
       "      <th>4</th>\n",
       "      <td>6</td>\n",
       "      <td>203140</td>\n",
       "      <td>204023</td>\n",
       "    </tr>\n",
       "  </tbody>\n",
       "</table>\n",
       "</div>"
      ],
      "text/plain": [
       "  chrom      st      en\n",
       "0     6  105670  106956\n",
       "1     6  123624  124168\n",
       "2     6  131690  132266\n",
       "3     6  146097  146761\n",
       "4     6  203140  204023"
      ]
     },
     "execution_count": 20,
     "metadata": {},
     "output_type": "execute_result"
    }
   ],
   "source": [
    "# Load intervals to call\n",
    "I = pd.read_csv('data/NGv3-chr6-hg19.noHLA.bed',header=None,sep='\\t',names=['chrom','st','en'])\n",
    "I['chrom'] = I['chrom'].astype(str)\n",
    "I.head()"
   ]
  },
  {
   "cell_type": "code",
   "execution_count": 104,
   "id": "elder-longer",
   "metadata": {},
   "outputs": [],
   "source": [
    "## Step 1: find candidate variants in tumor\n",
    "\n",
    "# Open files\n",
    "samfile = pysam.AlignmentFile(\"data/tumor.bam\", \"rb\")\n",
    "normalfile = pysam.AlignmentFile(\"data/normal.bam\", \"rb\")\n",
    "reffile = pysam.FastaFile(\"data/Homo_sapiens_assembly19.fasta\")\n",
    "\n",
    "# LOD_T threshhold \n",
    "theta_T = 6.3\n",
    "\n",
    "# List to append variants as we find them\n",
    "variants = list()\n",
    "\n",
    "\n",
    "chrom=\"6\"\n",
    "st = I['st'].min()\n",
    "en = I['en'].max()\n",
    "\n",
    "# Load reference genome over required interval\n",
    "ref = reffile.fetch(chrom,st,en)\n",
    "\n",
    "# Index to keep track of exon\n",
    "i=0\n",
    "curr_st = I['st'].iloc[0]\n",
    "curr_en = I['en'].iloc[0]\n",
    "\n",
    "\n",
    "# Iterate over pileups in this region\n",
    "# Hint: for debugging purposes you may want to start just running in the vicinity of a known true event\n",
    "for pileupcolumn in samfile.pileup(chrom, st, en,min_mapping_quality=30,ignore_orphans=False):\n",
    "    \n",
    "        # Check if we're in our exon intervals, if not continue\n",
    "        if pileupcolumn.reference_pos <curr_st:\n",
    "            continue\n",
    "        elif pileupcolumn.reference_pos>=curr_en:\n",
    "            # and if we've passed the current exon, we need to increment our index\n",
    "            while pileupcolumn.reference_pos>=curr_en:\n",
    "                i+=1\n",
    "                curr_st = I['st'].iloc[i]\n",
    "                curr_en = I['en'].iloc[i]\n",
    "\n",
    "        # Get the reference base at the pileup position\n",
    "        ref_base = ref[pileupcolumn.reference_pos-st]    \n",
    "\n",
    "    \n",
    "        # Get the bases of reads covering the base, and their base qualities\n",
    "        bases,quals = get_bases_and_qualities(pileupcolumn)\n",
    "    \n",
    "        \n",
    "        # If we don't have at least 2 reads, skip\n",
    "        if len(quals)<2:\n",
    "            continue\n",
    "    \n",
    "        ### You do the rest! Figure out which mutation mutation you want to test for, \n",
    "        ###   calculate LOD_T, and decide if it passes theta_T\n",
    "            \n",
    " \n",
    "                \n",
    "samfile.close()\n",
    "normalfile.close()\n",
    "reffile.close()"
   ]
  },
  {
   "cell_type": "code",
   "execution_count": 106,
   "id": "white-poetry",
   "metadata": {},
   "outputs": [],
   "source": [
    "## STEP 2: Annotate normal LOD\n",
    "\n",
    "normalfile = pysam.AlignmentFile(\"data/normal.bam\", \"rb\")\n",
    "\n",
    "# Iterate over calls (assuming you've made a dataframe of variants V)\n",
    "for ind,row in V.iterrows():\n",
    "    # \"Loops\" over single pileup at our candidate variants\n",
    "    for n in normalfile.pileup(\"6\",row['pos'],row['pos']+1,\n",
    "                               min_mapping_quality=30,truncate=True,ignore_orphans=False):\n",
    "        \n",
    "        # Get the normal bases and qualities\n",
    "        bases_n,quals_n = get_bases_and_qualities(n)\n",
    "        \n",
    "        ## TODO: Calculate the normal LOD\n",
    "        ## Decide if it's a real variant\n",
    "        \n",
    "normalfile.close()\n",
    "\n",
    "    "
   ]
  },
  {
   "cell_type": "markdown",
   "id": "labeled-sierra",
   "metadata": {},
   "source": [
    "### (3b) Show how many variants you discovered. Using the ground truth mutations provided, calculate your callers sensitivity and false positive rate"
   ]
  },
  {
   "cell_type": "code",
   "execution_count": 5,
   "id": "absolute-fighter",
   "metadata": {},
   "outputs": [
    {
     "data": {
      "text/html": [
       "<div>\n",
       "<style scoped>\n",
       "    .dataframe tbody tr th:only-of-type {\n",
       "        vertical-align: middle;\n",
       "    }\n",
       "\n",
       "    .dataframe tbody tr th {\n",
       "        vertical-align: top;\n",
       "    }\n",
       "\n",
       "    .dataframe thead th {\n",
       "        text-align: right;\n",
       "    }\n",
       "</style>\n",
       "<table border=\"1\" class=\"dataframe\">\n",
       "  <thead>\n",
       "    <tr style=\"text-align: right;\">\n",
       "      <th></th>\n",
       "      <th>chr</th>\n",
       "      <th>pos</th>\n",
       "      <th>ref</th>\n",
       "      <th>alt</th>\n",
       "    </tr>\n",
       "  </thead>\n",
       "  <tbody>\n",
       "    <tr>\n",
       "      <th>0</th>\n",
       "      <td>6</td>\n",
       "      <td>4999924</td>\n",
       "      <td>G</td>\n",
       "      <td>C</td>\n",
       "    </tr>\n",
       "    <tr>\n",
       "      <th>1</th>\n",
       "      <td>6</td>\n",
       "      <td>17781103</td>\n",
       "      <td>T</td>\n",
       "      <td>A</td>\n",
       "    </tr>\n",
       "    <tr>\n",
       "      <th>2</th>\n",
       "      <td>6</td>\n",
       "      <td>18171698</td>\n",
       "      <td>T</td>\n",
       "      <td>A</td>\n",
       "    </tr>\n",
       "    <tr>\n",
       "      <th>3</th>\n",
       "      <td>6</td>\n",
       "      <td>42832434</td>\n",
       "      <td>T</td>\n",
       "      <td>C</td>\n",
       "    </tr>\n",
       "    <tr>\n",
       "      <th>4</th>\n",
       "      <td>6</td>\n",
       "      <td>51946892</td>\n",
       "      <td>G</td>\n",
       "      <td>C</td>\n",
       "    </tr>\n",
       "  </tbody>\n",
       "</table>\n",
       "</div>"
      ],
      "text/plain": [
       "   chr       pos ref alt\n",
       "0    6   4999924   G   C\n",
       "1    6  17781103   T   A\n",
       "2    6  18171698   T   A\n",
       "3    6  42832434   T   C\n",
       "4    6  51946892   G   C"
      ]
     },
     "execution_count": 5,
     "metadata": {},
     "output_type": "execute_result"
    }
   ],
   "source": [
    "G = pd.read_csv('data/ground_truth_mutations.txt',sep='\\t',header=None,\n",
    "               names = ['chr','pos','ref','alt'])\n",
    "G.head()"
   ]
  },
  {
   "cell_type": "markdown",
   "id": "through-paint",
   "metadata": {},
   "source": [
    "### (3c) Explore in IGV examples of false positive calls by your caller, as well as false negatives. In each case include screenshots, and describe your findings."
   ]
  }
 ],
 "metadata": {
  "kernelspec": {
   "display_name": "Python 3",
   "language": "python",
   "name": "python3"
  },
  "language_info": {
   "codemirror_mode": {
    "name": "ipython",
    "version": 3
   },
   "file_extension": ".py",
   "mimetype": "text/x-python",
   "name": "python",
   "nbconvert_exporter": "python",
   "pygments_lexer": "ipython3",
   "version": "3.8.5"
  }
 },
 "nbformat": 4,
 "nbformat_minor": 5
}
