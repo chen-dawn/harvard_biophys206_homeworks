{
 "cells": [
  {
   "cell_type": "markdown",
   "id": "rising-beverage",
   "metadata": {},
   "source": [
    "## HW3. Inference of purity, ploidy, and absolute copy number"
   ]
  },
  {
   "cell_type": "markdown",
   "id": "annoying-renewal",
   "metadata": {},
   "source": [
    "In this homework we will develop a model for determining purity, ploidy, and absolute copy number using (non-allelic) copy ratio data from the TCGA Pan-cancer atlas.\n",
    "\n",
    "https://gdc.cancer.gov/about-data/publications/pancanatlas\n",
    "\n",
    "Our data is provided as a \"seg\" file containing the segmented copy data from all samples in the TCGA Pan-can atlas broad.mit.edu_PANCAN_Genome_Wide_SNP_6_whitelisted_min1kprobes.seg. It has the following columns\n",
    "\n",
    "- Sample - Which TCGA sample this segment was found in\n",
    "- Chromosome, Start, End - the genomic location of the segment\n",
    "- Num_Probes - The number of exons supporting the segment (the \"probe\" terminology is a relic of when copy number was called from SNP arrays, which probed sites of genetic variation in the genome). We filtered small segments for this excerise as they are trickier to call.\n",
    "- Segment_Mean - The $log_2$ copy ratio of the segment."
   ]
  },
  {
   "cell_type": "markdown",
   "id": "cooperative-bible",
   "metadata": {},
   "source": [
    "Our simplistic model will be as follows. Each segment of the genome in a tumor has some number of copies $c_i$ ranging from from 0...9 with equal probability.\n",
    "\n",
    "$$c_i \\sim Cat([\\frac{1}{10},...,\\frac{1}{10}])$$\n",
    "\n",
    "Each tumor has an unknown purity $\\alpha$ on which we'll assume a uniform prior\n",
    "\n",
    "$$\\alpha \\sim Unif(0,1)$$\n",
    "\n",
    "as well as a ploidy $\\tau$ that is the average of the copy number states across all segments (weighted by the number of probes in the segment, $w_i$)\n",
    "\n",
    "$$\\tau = \\frac{1}{\\sum_{i=1}^N w_i}\\sum_{i=1}^N w_ic_i$$"
   ]
  },
  {
   "cell_type": "markdown",
   "id": "acting-anger",
   "metadata": {},
   "source": [
    "Then each segment is drawn from a normal distribution with a mean $\\mu_{c_i}$ determined by the underlying copy number state, purity, and ploidy, and a variance $\\sigma^2$ that is the same for all states."
   ]
  },
  {
   "cell_type": "markdown",
   "id": "higher-posting",
   "metadata": {},
   "source": [
    "$$x_i \\sim \\mathcal{N}(\\mu_{c_i},\\sigma^2)$$\n",
    "$$\\mu_{c_i} = log_2(\\frac{\\alpha c_i + (1-\\alpha)*2}{\\alpha \\tau + (1-\\alpha)*2})$$"
   ]
  },
  {
   "cell_type": "markdown",
   "id": "latest-flexibility",
   "metadata": {},
   "source": [
    "Note that the provided segment means are log copy ratios, not copy ratios, so we take the log of the expected copy ratio to parameterize our distribution."
   ]
  },
  {
   "cell_type": "code",
   "execution_count": 1,
   "id": "korean-export",
   "metadata": {},
   "outputs": [],
   "source": [
    "import pandas as pd\n",
    "import numpy as np\n",
    "import matplotlib.pyplot as plt\n",
    "from scipy.stats import norm\n",
    "import seaborn as sns"
   ]
  },
  {
   "cell_type": "markdown",
   "id": "cubic-bandwidth",
   "metadata": {},
   "source": [
    "## Question 1. Data Exploration"
   ]
  },
  {
   "cell_type": "markdown",
   "id": "separated-county",
   "metadata": {},
   "source": [
    "We'll start by exploring the sample \"TCGA-CZ-5454-01A-01D-1499-01\", extract the segments for this sample from the seg file and create step plot showing segment mean $log_2$ copy ratio on the y-axis, and genomic range of each segment on the x axis. It is convention to consider the X chromosome to be numbered 23 (the Y would be 24, but it is not included in this seg file), and to plot the chromosomes in order by assigning a unique index to each genomic position. If we have position $i$ on chromome $c$, we would consider its genomic position to be\n",
    "\n",
    "$$i + \\sum_{j=1}^{c-1} L_j$$\n",
    "\n",
    "where $L_j$ is the length of the $jth$ chromosome (i.e. we add on the lengths of all previous chromosomes). The following file gives the lengths of all chromosomes:"
   ]
  },
  {
   "cell_type": "code",
   "execution_count": 2,
   "id": "interracial-gospel",
   "metadata": {},
   "outputs": [
    {
     "data": {
      "text/html": [
       "<div>\n",
       "<style scoped>\n",
       "    .dataframe tbody tr th:only-of-type {\n",
       "        vertical-align: middle;\n",
       "    }\n",
       "\n",
       "    .dataframe tbody tr th {\n",
       "        vertical-align: top;\n",
       "    }\n",
       "\n",
       "    .dataframe thead th {\n",
       "        text-align: right;\n",
       "    }\n",
       "</style>\n",
       "<table border=\"1\" class=\"dataframe\">\n",
       "  <thead>\n",
       "    <tr style=\"text-align: right;\">\n",
       "      <th></th>\n",
       "      <th>chr</th>\n",
       "      <th>len</th>\n",
       "    </tr>\n",
       "  </thead>\n",
       "  <tbody>\n",
       "    <tr>\n",
       "      <th>0</th>\n",
       "      <td>chr1</td>\n",
       "      <td>249250621</td>\n",
       "    </tr>\n",
       "    <tr>\n",
       "      <th>1</th>\n",
       "      <td>chr2</td>\n",
       "      <td>243199373</td>\n",
       "    </tr>\n",
       "    <tr>\n",
       "      <th>2</th>\n",
       "      <td>chr3</td>\n",
       "      <td>198022430</td>\n",
       "    </tr>\n",
       "    <tr>\n",
       "      <th>3</th>\n",
       "      <td>chr4</td>\n",
       "      <td>191154276</td>\n",
       "    </tr>\n",
       "    <tr>\n",
       "      <th>4</th>\n",
       "      <td>chr5</td>\n",
       "      <td>180915260</td>\n",
       "    </tr>\n",
       "  </tbody>\n",
       "</table>\n",
       "</div>"
      ],
      "text/plain": [
       "    chr        len\n",
       "0  chr1  249250621\n",
       "1  chr2  243199373\n",
       "2  chr3  198022430\n",
       "3  chr4  191154276\n",
       "4  chr5  180915260"
      ]
     },
     "execution_count": 2,
     "metadata": {},
     "output_type": "execute_result"
    }
   ],
   "source": [
    "C = pd.read_csv('http://hgdownload.cse.ucsc.edu/goldenpath/hg19/bigZips/latest/hg19.chrom.sizes',sep='\\t',\n",
    "           header=None,names=['chr','len'])\n",
    "\n",
    "C.head()"
   ]
  },
  {
   "cell_type": "code",
   "execution_count": 3,
   "id": "suspended-concrete",
   "metadata": {},
   "outputs": [
    {
     "data": {
      "text/html": [
       "<div>\n",
       "<style scoped>\n",
       "    .dataframe tbody tr th:only-of-type {\n",
       "        vertical-align: middle;\n",
       "    }\n",
       "\n",
       "    .dataframe tbody tr th {\n",
       "        vertical-align: top;\n",
       "    }\n",
       "\n",
       "    .dataframe thead th {\n",
       "        text-align: right;\n",
       "    }\n",
       "</style>\n",
       "<table border=\"1\" class=\"dataframe\">\n",
       "  <thead>\n",
       "    <tr style=\"text-align: right;\">\n",
       "      <th></th>\n",
       "      <th>,Sample,Chromosome,Start,End,Num_Probes,Segment_Mean</th>\n",
       "    </tr>\n",
       "  </thead>\n",
       "  <tbody>\n",
       "    <tr>\n",
       "      <th>0</th>\n",
       "      <td>0,TCGA-OR-A5J1-10A-01D-A29K-01,1,3218610.0,247...</td>\n",
       "    </tr>\n",
       "    <tr>\n",
       "      <th>1</th>\n",
       "      <td>1,TCGA-OR-A5J1-10A-01D-A29K-01,2,484222.0,4575...</td>\n",
       "    </tr>\n",
       "    <tr>\n",
       "      <th>2</th>\n",
       "      <td>3,TCGA-OR-A5J1-10A-01D-A29K-01,2,45764419.0,16...</td>\n",
       "    </tr>\n",
       "    <tr>\n",
       "      <th>3</th>\n",
       "      <td>5,TCGA-OR-A5J1-10A-01D-A29K-01,2,167218669.0,2...</td>\n",
       "    </tr>\n",
       "    <tr>\n",
       "      <th>4</th>\n",
       "      <td>7,TCGA-OR-A5J1-10A-01D-A29K-01,2,220568094.0,2...</td>\n",
       "    </tr>\n",
       "  </tbody>\n",
       "</table>\n",
       "</div>"
      ],
      "text/plain": [
       "  ,Sample,Chromosome,Start,End,Num_Probes,Segment_Mean\n",
       "0  0,TCGA-OR-A5J1-10A-01D-A29K-01,1,3218610.0,247...  \n",
       "1  1,TCGA-OR-A5J1-10A-01D-A29K-01,2,484222.0,4575...  \n",
       "2  3,TCGA-OR-A5J1-10A-01D-A29K-01,2,45764419.0,16...  \n",
       "3  5,TCGA-OR-A5J1-10A-01D-A29K-01,2,167218669.0,2...  \n",
       "4  7,TCGA-OR-A5J1-10A-01D-A29K-01,2,220568094.0,2...  "
      ]
     },
     "execution_count": 3,
     "metadata": {},
     "output_type": "execute_result"
    }
   ],
   "source": [
    "## Load our seg file\n",
    "S = pd.read_csv('broad.mit.edu_PANCAN_Genome_Wide_SNP_6_whitelisted_min1kprobes.seg',sep='\\t')\n",
    "\n",
    "S.head()"
   ]
  },
  {
   "cell_type": "markdown",
   "id": "entire-narrative",
   "metadata": {},
   "source": [
    "### Question 2. Determining absolute copy number if we already know the purity and ploidy"
   ]
  },
  {
   "cell_type": "markdown",
   "id": "enclosed-auditor",
   "metadata": {},
   "source": [
    "### (2a) For this same sample as in Q1, let's assume we already know the purity $\\alpha=0.75$, and ploidy $\\tau=2.1$ (these were the values inferred by ABSOLUTE).  Determine the expected segment copy ratio $\\mu_{c_i}$ as a function of the absolute copy number $c_i$, the purity $\\alpha$, and the ploidy $\\tau$. Then write a function that given an alpha and tau, calculates a vector with $\\mu_0,\\mu_1,...,\\mu_{9}$ (a.k.a., \"the comb\")"
   ]
  },
  {
   "cell_type": "code",
   "execution_count": 4,
   "id": "alpha-christianity",
   "metadata": {},
   "outputs": [],
   "source": [
    "# Returns a vector of length 10 with expected copy ratios\n",
    "def calc_mu(alpha,tau):\n",
    "    \n",
    "    copy_states = np.arange(0,10)\n",
    "    \n",
    "    pass"
   ]
  },
  {
   "cell_type": "markdown",
   "id": "broken-jenny",
   "metadata": {},
   "source": [
    "### (2b)  Now re-create your segmentation plot from Q1, but this time add horizonal lines to your plot at every comb tooth $\\mu_0,...,\\mu_9$. You should see these lines tend to coincide with the segment values."
   ]
  },
  {
   "cell_type": "code",
   "execution_count": 5,
   "id": "awful-technical",
   "metadata": {},
   "outputs": [],
   "source": [
    "def comb_plot(x,alpha,tau):\n",
    "    pass"
   ]
  },
  {
   "cell_type": "markdown",
   "id": "chronic-garlic",
   "metadata": {},
   "source": [
    "### (2c) Write down an expression for $P(c_i|x_i,\\alpha, \\tau,\\sigma^2)$. You can leave it in terms of normal pdf functions. Then implement it as a function"
   ]
  },
  {
   "cell_type": "code",
   "execution_count": 6,
   "id": "early-webmaster",
   "metadata": {},
   "outputs": [],
   "source": [
    "# Returns an N x 10 matrix giving the probability each segment belongs to each copy number state\n",
    "def calc_state_probabilities(x,alpha,tau,sig2):\n",
    "    pass"
   ]
  },
  {
   "cell_type": "markdown",
   "id": "premium-pathology",
   "metadata": {},
   "source": [
    "### (2d) Using this function, calculate a N x 10 matrix with the probability that each segment belongs to each of the 10 copy number states for our example sample. Assume $\\sigma^2=.01$. Plot results as a heatmap."
   ]
  },
  {
   "cell_type": "markdown",
   "id": "weird-notebook",
   "metadata": {},
   "source": [
    "## Question 3. Inferring purity and ploidy through EM"
   ]
  },
  {
   "cell_type": "markdown",
   "id": "distinct-aquarium",
   "metadata": {},
   "source": [
    "## (3a). Write down an expression of the log-likelihood of all segments. Again fixing $\\sigma^2=.01$, calculate the log-likelihood of a grid of purity and ploidy values $\\alpha=0,...,1$, $\\tau=1,...,4$ for the previous sample. Make a heatmap of the results."
   ]
  },
  {
   "cell_type": "markdown",
   "id": "chicken-abortion",
   "metadata": {},
   "source": [
    "$$\\log P(X|\\alpha,\\tau,\\sigma^2) = ...$$"
   ]
  },
  {
   "cell_type": "code",
   "execution_count": 7,
   "id": "arranged-europe",
   "metadata": {},
   "outputs": [],
   "source": [
    "def log_likelihood(x,alpha,tau,sig2):\n",
    "    pass"
   ]
  },
  {
   "cell_type": "markdown",
   "id": "standing-cincinnati",
   "metadata": {},
   "source": [
    "### (3b) To perform the M-step, we'll need to optimize our expected log-likelihood. Implement this function.\n",
    "\n",
    "$$Q(\\theta,\\theta_t) = \\mathbb{E}_{C|X,\\theta_t}[\\log P(X,C|\\mu,\\tau,\\sigma^2)]$$"
   ]
  },
  {
   "cell_type": "markdown",
   "id": "published-morrison",
   "metadata": {},
   "source": [
    "$$=\\sum_{i=1}^N \\sum_{c_i=0}^9 P(c_i|x_i,\\theta_t) \\log \\mathcal{N}(x_i|c_i,\\mu_{c_i},\\sigma^2)$$"
   ]
  },
  {
   "cell_type": "markdown",
   "id": "front-finder",
   "metadata": {},
   "source": [
    "$$= -\\sum_{i=1}^N \\sum_{c_i=0}^9 P(c_i|x_i,\\theta_t) (\\log (\\sqrt{\\sigma^2})+\\frac{(x_i-\\mu_{c_i})^2}{2\\sigma^2}) + C$$"
   ]
  },
  {
   "cell_type": "code",
   "execution_count": 8,
   "id": "resistant-portable",
   "metadata": {},
   "outputs": [],
   "source": [
    "# State_probabilities are the matrix of $P(c_i|\\theta_t)$ values which will be calculated in the E-step\n",
    "# If you use scipy's normal pdf function, note that it takes sigma as a parameter and not sigma^2!\n",
    "def Q(x,state_probabilities,alpha,tau,sig2):    \n",
    "    pass"
   ]
  },
  {
   "cell_type": "markdown",
   "id": "african-emergency",
   "metadata": {},
   "source": [
    "### (3c) Take the derivative and solve $\\frac{\\partial Q}{\\partial \\sigma^2} = 0$ to come up with an M-step update rule for $\\sigma^2$ (hint: it is very similar to what we derived for gaussian mixture models, treat $V=\\sigma^2$ as a variable rather than $\\sigma$). "
   ]
  },
  {
   "cell_type": "markdown",
   "id": "dangerous-accused",
   "metadata": {},
   "source": [
    "### (3d) Now we'll put it all together and use EM to find these purity and ploidy values for ourselves.\n",
    "\n",
    "- Pick initial values for the purity $\\alpha$, ploidy $\\tau$, and segment noise $\\sigma^2$\n",
    "- E-step: Calculate the posterior probabilities each segment has a given copy number state as in Q2C\n",
    "- M-step: Choose new values of your parameters that maximize the expected log likelihood function $Q$\n",
    "    - $\\tau$ can be estimated as the expected copy ratio $\\tau = \\sum_{i=1}^N \\sum_{c_i=0}^9\\frac{w_i c_i P(c_i|\\theta_t)}{\\sum_{i=1}^N {w_i}}$\n",
    "    - $\\alpha$ can't be solved for analytically, but you can find the value that maximizes Q with an optimization library (see below)\n",
    "    - $\\sigma^2$ can be maximized via your rule in Q3C (or with an optimization library)\n",
    "- Do this iteratively until the parameters and likelihood stop changing values\n",
    "\n",
    "### Try initalizing with values $\\alpha_0=.6$,$\\tau_0=2$,$\\sigma^2_0=.01$ and $\\alpha_0=.2$,$\\tau_0=4$,$\\sigma^2_0=.01$. Re-do the \"comb plot\" and state probability heatmaps with your optimized values in each case. How does it do?\n"
   ]
  },
  {
   "cell_type": "code",
   "execution_count": 9,
   "id": "personalized-restoration",
   "metadata": {},
   "outputs": [
    {
     "data": {
      "text/plain": [
       "array([3.])"
      ]
     },
     "execution_count": 9,
     "metadata": {},
     "output_type": "execute_result"
    }
   ],
   "source": [
    "# Example usage of scipy minimize\n",
    "from scipy.optimize import minimize\n",
    "\n",
    "# Example function to minimize, y=(x-3)^2+2\n",
    "def function_to_minimize(x):\n",
    "    return (x-3)**2+2\n",
    "\n",
    "# We need to provide a starting point for optimization, x0\n",
    "# Additionally you can provide bounds on the value you are optimizing, if desired. \n",
    "##  e.g. here we constrain x to be between 0 and 5\n",
    "optim_res = minimize(function_to_minimize,x0=5,bounds=[(0,5)])\n",
    "\n",
    "# This funtion is minimized at x=3\n",
    "optim_res.x"
   ]
  },
  {
   "cell_type": "code",
   "execution_count": 10,
   "id": "latest-success",
   "metadata": {},
   "outputs": [],
   "source": [
    "def EM(x,w,alpha_0,tau_0,sig2_0):\n",
    "    \n",
    "    alpha=alpha_0\n",
    "    tau=tau_0\n",
    "    sig2=sig2_0\n",
    "\n",
    "    nit = 20 # Is this enough?\n",
    "    \n",
    "    for it in range(0,nit):\n",
    "        \n",
    "\n",
    "        # E-step: calculate state probabilities given current parameters from Q2C\n",
    "        # state_probabilities = ...\n",
    "        \n",
    "        # M-step: Update tau, alpha, sigma^2\n",
    "        # tau = ...\n",
    "        # alpha = ...\n",
    "        # sig2 = ...\n",
    "        \n",
    "        # Check this is always increasing\n",
    "        ll = log_likelihood(x,alpha,tau,sig2)\n",
    "        print(ll)\n",
    "        \n",
    "    return(pc,alpha,tau,sig2,ll)        \n",
    "        \n",
    "        "
   ]
  },
  {
   "cell_type": "markdown",
   "id": "authentic-review",
   "metadata": {},
   "source": [
    "### (3e) Try your EM algorithm out on the segmentation profiles of the following samples as well. Pick a range of initial parameter values, and see which converge to a solution with the highest likelihood. Report the purity, ploidy, and plot a heatmap of the copy number state probabilities. See if you get similar solutions to ABSOLUTE, provided in the file TCGA_mastercalls.abs_tables_JSedit.fixed.txt\n",
    "\n",
    "- TCGA-CW-6090-01A-11D-1668-01\n",
    "- TCGA-B6-A0RP-01A-21D-A087-01"
   ]
  },
  {
   "cell_type": "code",
   "execution_count": null,
   "id": "regional-composite",
   "metadata": {},
   "outputs": [],
   "source": []
  }
 ],
 "metadata": {
  "kernelspec": {
   "display_name": "Python 3",
   "language": "python",
   "name": "python3"
  },
  "language_info": {
   "codemirror_mode": {
    "name": "ipython",
    "version": 3
   },
   "file_extension": ".py",
   "mimetype": "text/x-python",
   "name": "python",
   "nbconvert_exporter": "python",
   "pygments_lexer": "ipython3",
   "version": "3.8.5"
  }
 },
 "nbformat": 4,
 "nbformat_minor": 5
}
